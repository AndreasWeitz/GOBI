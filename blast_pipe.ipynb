{
 "cells": [
  {
   "cell_type": "code",
   "execution_count": 1,
   "id": "ea081655-ea91-4899-9b28-af2140cbd713",
   "metadata": {},
   "outputs": [],
   "source": [
    "import subprocess"
   ]
  },
  {
   "cell_type": "code",
   "execution_count": 2,
   "id": "1cca9736-ca8f-453e-b669-6a90b3f12e34",
   "metadata": {},
   "outputs": [],
   "source": [
    "def fastblast(db_path, \n",
    "              query_path, \n",
    "              blast_out, \n",
    "              evalue, \n",
    "              blast_type, \n",
    "              inputdb_fasta, \n",
    "              inputdb_gff, \n",
    "              blastout_gff, \n",
    "              id_file_db = None, \n",
    "              altout_gff = False): \n",
    "    \n",
    "    temp = \"\"\n",
    "    if id_file_db != None:\n",
    "        temp = f\"-id {id_file_db}\"\n",
    "        \n",
    "    if altout_gff:\n",
    "        temp = f\"{temp} -ftype\"\n",
    "        blast_out = f\"{blast_out}_alt\"\n",
    "        \n",
    "    options = f\"{temp} -e {evalue} -btype {blast_type} -fasta {inputdb_fasta} -gff {inputdb_gff} -bgff {blastout_gff}\"\n",
    "    print(options)\n",
    "    \n",
    "    subprocess.run(f\"python3 pipeline_part1.py -dbpath {db_path} -qp {query_path} -out {blast_out} {options}\", shell=True) "
   ]
  },
  {
   "cell_type": "code",
   "execution_count": 3,
   "id": "bbda930f-2c47-4b71-b69d-7f8ba2cb65b2",
   "metadata": {},
   "outputs": [],
   "source": [
    "id_name = \"ppyr_ids\"\n",
    "blast_type = \"tblastx\"\n",
    "query_path = \"../query_files/drosophila.fasta\"\n",
    "evalue = 0.001\n",
    "\n",
    "base_dir = '../data/iteration_2'\n",
    "\n",
    "id_file = f\"../data/{id_name}.csv\"\n",
    "\n",
    "db_path = f\"{base_dir}/database/{id_name}/db/{id_name}.db\"\n",
    "inputdb_fasta = f\"{base_dir}/database/{id_name}/db_fasta/{id_name}.fasta\"\n",
    "inputdb_gff = f\"{base_dir}/database/{id_name}/db_gff/{id_name}_db.gff\"\n",
    "\n",
    "blast_out = f\"{base_dir}/blast_output/{id_name}/{blast_type}_{id_name}\"\n",
    "blastout_gff = f\"{base_dir}/blast_output/{id_name}/{blast_type}_{id_name}.gff\""
   ]
  },
  {
   "cell_type": "code",
   "execution_count": 4,
   "id": "93e60069-99dd-4f90-9f3d-ff0d7a2adf40",
   "metadata": {},
   "outputs": [
    {
     "name": "stdout",
     "output_type": "stream",
     "text": [
      "-id ../data/ppyr_ids.csv -ftype -e 0.001 -btype tblastx -fasta ../data/iteration_2/database/ppyr_ids/db_fasta/ppyr_ids.fasta -gff ../data/iteration_2/database/ppyr_ids/db_gff/ppyr_ids_db.gff -bgff ../data/iteration_2/blast_output/ppyr_ids/tblastx_ppyr_ids.gff\n",
      "                id     start       end\n",
      "0   NW_022170249.1  28263852  28265083\n",
      "1   NW_022170249.1  28265708  28279892\n",
      "2   NW_022170249.1  28280249  28282406\n",
      "3   NW_022170249.1  28282482  28283781\n",
      "4   NW_022170249.1  28284629  28286909\n",
      "5   NW_022170249.1  28287100  28287889\n",
      "6   NW_022170249.1  28288733  28303066\n",
      "7   NW_022170249.1  28298883  28314673\n",
      "8   NW_022170249.1  28317165  28319046\n",
      "9   NW_022170249.1  28318966  28319514\n",
      "10  NW_022170249.1  28326717  28329728\n",
      "11  NW_022170249.1  28332169  28336707\n",
      "12  NW_022170249.1  28340362  28342515\n",
      "13  NW_022170249.1  28345647  28347862\n",
      "14  NW_022170249.1  28350257  28353544\n",
      "15  NW_022170249.1  28355040  28356894\n",
      "16  NW_022170249.1  28360457  28398731\n",
      "17      CM070075.1  63071477  63112172\n",
      "18      CM070075.1  63122907  63123039\n",
      "19      CM070075.1  63131170  63131302\n",
      "20      CM070075.1  63139439  63143226\n",
      "21      CM070075.1  63154565  63159572\n",
      "22      CM070075.1  63163508  63178302\n",
      "23      CM070075.1  63185672  63187468\n",
      "24      CM070075.1  63205653  63217973\n",
      "25      CM070075.1  63235627  63237222\n",
      "26      CM070075.1  63240065  63243611\n",
      "27      CM070075.1  63251855  63256135\n",
      "28      CM070075.1  63257599  63264149\n",
      "29      CM070075.1  63266371  63288069\n",
      "30      CM070075.1  64410006  64410253\n",
      "31      CM070075.1  69336486  69339729\n",
      "32      CM070075.1  69341801  69352204\n",
      "33      CM070075.1  69353575  69353720\n",
      "34      CM070075.1  69362720  69364026\n",
      "35      CM070075.1  69398159  69402263\n",
      "36      CM070075.1  69435798  69446107\n",
      "37      CM070075.1  69448876  69463322\n",
      "{'NW_022170249.1': [(28263852, 28265083), (28265708, 28279892), (28280249, 28282406), (28282482, 28283781), (28284629, 28286909), (28287100, 28287889), (28288733, 28303066), (28298883, 28314673), (28317165, 28319046), (28318966, 28319514), (28326717, 28329728), (28332169, 28336707), (28340362, 28342515), (28345647, 28347862), (28350257, 28353544), (28355040, 28356894), (28360457, 28398731)], 'CM070075.1': [(63071477, 63112172), (63122907, 63123039), (63131170, 63131302), (63139439, 63143226), (63154565, 63159572), (63163508, 63178302), (63185672, 63187468), (63205653, 63217973), (63235627, 63237222), (63240065, 63243611), (63251855, 63256135), (63257599, 63264149), (63266371, 63288069), (64410006, 64410253), (69336486, 69339729), (69341801, 69352204), (69353575, 69353720), (69362720, 69364026), (69398159, 69402263), (69435798, 69446107), (69448876, 69463322)]}\n",
      "\n",
      "\n",
      "Building a new DB, current time: 03/07/2024 14:22:24\n",
      "New DB name:   /home/noah/code/uni/gobi/gobi/data/iteration_2/database/ppyr_ids/db/ppyr_ids.db\n",
      "New DB title:  ../data/iteration_2/database/ppyr_ids/db_fasta/ppyr_ids.fasta\n",
      "Sequence type: Nucleotide\n",
      "Keep MBits: T\n",
      "Maximum file size: 1000000000B\n",
      "Adding sequences from FASTA; added 304 sequences in 0.0130482 seconds.\n",
      "\n",
      "\n",
      "task completed\n"
     ]
    },
    {
     "name": "stderr",
     "output_type": "stream",
     "text": [
      "Command line argument error: Argument \"query\". File is not accessible:  `../query_files/drosophila.fasta'\n",
      "# Starting BLAST parsing on ../data/iteration_2/blast_output/ppyr_ids/tblastx_ppyr_ids_alt  Thu Mar  7 14:22:25 2024\n",
      "# Parsed 0 lines  Thu Mar  7 14:22:25 2024\n",
      "# Found 0 forward and 0 reverse hits\n",
      "# Wrote 0 matches  Thu Mar  7 14:22:25 2024\n"
     ]
    }
   ],
   "source": [
    "fastblast(\n",
    "    db_path=db_path, \n",
    "    query_path=query_path, \n",
    "    blast_out=blast_out, \n",
    "    altout_gff=True, \n",
    "    id_file_db=id_file, \n",
    "    evalue=evalue, \n",
    "    blast_type=blast_type, \n",
    "    inputdb_fasta=inputdb_fasta, \n",
    "    inputdb_gff=inputdb_gff, \n",
    "    blastout_gff=blastout_gff)"
   ]
  },
  {
   "cell_type": "code",
   "execution_count": null,
   "id": "fc707fd9-1b96-4f27-9409-8a195ce06ffb",
   "metadata": {},
   "outputs": [],
   "source": []
  }
 ],
 "metadata": {
  "kernelspec": {
   "display_name": "gobi",
   "language": "python",
   "name": "python3"
  },
  "language_info": {
   "codemirror_mode": {
    "name": "ipython",
    "version": 3
   },
   "file_extension": ".py",
   "mimetype": "text/x-python",
   "name": "python",
   "nbconvert_exporter": "python",
   "pygments_lexer": "ipython3",
   "version": "3.10.13"
  }
 },
 "nbformat": 4,
 "nbformat_minor": 5
}
