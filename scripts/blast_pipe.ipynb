{
 "cells": [
  {
   "cell_type": "code",
   "execution_count": null,
   "id": "ea081655-ea91-4899-9b28-af2140cbd713",
   "metadata": {},
   "outputs": [],
   "source": [
    "import subprocess"
   ]
  },
  {
   "cell_type": "code",
   "execution_count": null,
   "id": "1cca9736-ca8f-453e-b669-6a90b3f12e34",
   "metadata": {},
   "outputs": [],
   "source": [
    "def fastblast(db_path, \n",
    "              query_path, \n",
    "              blast_out, \n",
    "              evalue, \n",
    "              blast_type, \n",
    "              inputdb_fasta, \n",
    "              inputdb_gff, \n",
    "              blastout_gff, \n",
    "              id_file_db = None, \n",
    "              altout_gff = False): \n",
    "    \n",
    "    temp = \"\"\n",
    "    if id_file_db != None:\n",
    "        temp = f\"-id {id_file_db}\"\n",
    "        \n",
    "    if altout_gff:\n",
    "        temp = f\"{temp} -ftype\"\n",
    "        blast_out = f\"{blast_out}_alt\"\n",
    "        \n",
    "    options = f\"{temp} -e {evalue} -btype {blast_type} -fasta {inputdb_fasta} -gff {inputdb_gff} -bgff {blastout_gff}\"\n",
    "    print(options)\n",
    "    \n",
    "    subprocess.run(f\"python3 pipeline_part1.py -dbpath {db_path} -qp {query_path} -out {blast_out} {options}\", shell=True) "
   ]
  },
  {
   "cell_type": "code",
   "execution_count": null,
   "id": "bbda930f-2c47-4b71-b69d-7f8ba2cb65b2",
   "metadata": {},
   "outputs": [],
   "source": [
    "id_name = \"ppyr_ids\"\n",
    "blast_type = \"tblastx\"\n",
    "query_path = \"../query_files/drosophila.fasta\"\n",
    "evalue = 0.001\n",
    "\n",
    "base_dir = '../data/iteration_2'\n",
    "\n",
    "id_file = f\"../data/{id_name}.csv\"\n",
    "\n",
    "db_path = f\"{base_dir}/database/{id_name}/db/{id_name}.db\"\n",
    "inputdb_fasta = f\"{base_dir}/database/{id_name}/db_fasta/{id_name}.fasta\"\n",
    "inputdb_gff = f\"{base_dir}/database/{id_name}/db_gff/{id_name}_db.gff\"\n",
    "\n",
    "blast_out = f\"{base_dir}/blast_output/{id_name}/{blast_type}_{id_name}\"\n",
    "blastout_gff = f\"{base_dir}/blast_output/{id_name}/{blast_type}_{id_name}.gff\""
   ]
  },
  {
   "cell_type": "code",
   "execution_count": null,
   "id": "93e60069-99dd-4f90-9f3d-ff0d7a2adf40",
   "metadata": {},
   "outputs": [],
   "source": [
    "fastblast(\n",
    "    db_path=db_path, \n",
    "    query_path=query_path, \n",
    "    blast_out=blast_out, \n",
    "    altout_gff=True, \n",
    "    id_file_db=id_file, \n",
    "    evalue=evalue, \n",
    "    blast_type=blast_type, \n",
    "    inputdb_fasta=inputdb_fasta, \n",
    "    inputdb_gff=inputdb_gff, \n",
    "    blastout_gff=blastout_gff)"
   ]
  },
  {
   "cell_type": "code",
   "execution_count": null,
   "id": "fc707fd9-1b96-4f27-9409-8a195ce06ffb",
   "metadata": {},
   "outputs": [],
   "source": []
  }
 ],
 "metadata": {
  "kernelspec": {
   "display_name": "gobi",
   "language": "python",
   "name": "python3"
  },
  "language_info": {
   "codemirror_mode": {
    "name": "ipython",
    "version": 3
   },
   "file_extension": ".py",
   "mimetype": "text/x-python",
   "name": "python",
   "nbconvert_exporter": "python",
   "pygments_lexer": "ipython3",
   "version": "3.10.13"
  }
 },
 "nbformat": 4,
 "nbformat_minor": 5
}
